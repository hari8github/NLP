{
 "cells": [
  {
   "cell_type": "code",
   "execution_count": 63,
   "id": "085a6c32-526c-48e4-a838-54bcd953dfd6",
   "metadata": {},
   "outputs": [],
   "source": [
    "import tensorflow as tf\n",
    "from tensorflow.keras.preprocessing.text import Tokenizer\n",
    "from tensorflow.keras.preprocessing.sequence import pad_sequences\n",
    "\n",
    "import numpy as np\n",
    "import pandas as pd\n",
    "import matplotlib.pyplot as plt"
   ]
  },
  {
   "cell_type": "code",
   "execution_count": 64,
   "id": "18a19c34-3b7e-4a44-b6df-74c5ade8dcd3",
   "metadata": {},
   "outputs": [],
   "source": [
    "dataset = pd.read_csv(\"D:\\Data Science\\Datasets\\combined_data.csv\")"
   ]
  },
  {
   "cell_type": "code",
   "execution_count": 65,
   "id": "e38351b2-e7c3-4cda-a795-43ce46cbe0b4",
   "metadata": {},
   "outputs": [],
   "source": [
    "sentences = dataset['text'].tolist()\n",
    "labels = dataset['sentiment'].tolist()"
   ]
  },
  {
   "cell_type": "code",
   "execution_count": 66,
   "id": "9de97a14-9415-45aa-a645-76dc796e71e0",
   "metadata": {},
   "outputs": [],
   "source": [
    "train_size = int(len(sentences) *0.8)"
   ]
  },
  {
   "cell_type": "code",
   "execution_count": 67,
   "id": "e8a31059-f2b1-4faa-b455-8e756c457fc8",
   "metadata": {},
   "outputs": [],
   "source": [
    "train_sentences = sentences[0:train_size]\n",
    "train_labels = labels[0:train_size]\n",
    "test_sentences = sentences[train_size:]\n",
    "test_labels = labels[train_size:]"
   ]
  },
  {
   "cell_type": "code",
   "execution_count": 68,
   "id": "3853c8de-d263-4051-bca3-6c5c58a08511",
   "metadata": {},
   "outputs": [],
   "source": [
    "train_label_fin = np.array(train_labels)\n",
    "test_label_fin = np.array(test_labels)"
   ]
  },
  {
   "cell_type": "code",
   "execution_count": 69,
   "id": "36393f36-04eb-4e2c-8bfd-dc15aad2d09e",
   "metadata": {},
   "outputs": [],
   "source": [
    "vocab_size = 500\n",
    "embedding_dim = 16\n",
    "max_length = 50\n",
    "trunc_type = 'post'\n",
    "padding_type = 'post'\n",
    "oov_tok = \"<OOV>\""
   ]
  },
  {
   "cell_type": "code",
   "execution_count": 70,
   "id": "4199eabe-247a-4421-826d-bcd1e5ff0ce3",
   "metadata": {},
   "outputs": [],
   "source": [
    "tokenizer = Tokenizer(num_words = vocab_size, oov_token = oov_tok)\n",
    "tokenizer.fit_on_texts(train_sentences)\n",
    "\n",
    "word_index = tokenizer.word_index\n",
    "train_sequences = tokenizer.texts_to_sequences(train_sentences)\n",
    "train_padding = pad_sequences(train_sequences, maxlen = max_length, padding = padding_type,\n",
    "                              truncating = trunc_type)\n",
    "\n",
    "test_sequences = tokenizer.texts_to_sequences(test_sentences)\n",
    "test_padding = pad_sequences(test_sequences, maxlen = max_length, padding = padding_type,\n",
    "                             truncating = trunc_type)"
   ]
  },
  {
   "cell_type": "code",
   "execution_count": 71,
   "id": "762753a3-5c01-4e63-9e60-d73212003f94",
   "metadata": {},
   "outputs": [],
   "source": [
    "model = tf.keras.Sequential([\n",
    "    tf.keras.layers.Embedding(vocab_size, embedding_dim, input_length = max_length),\n",
    "    tf.keras.layers.GlobalAveragePooling1D(),\n",
    "    tf.keras.layers.Dense(6, activation = 'relu'),\n",
    "    tf.keras.layers.Dense(1, activation = 'sigmoid')\n",
    "])"
   ]
  },
  {
   "cell_type": "code",
   "execution_count": 72,
   "id": "ddd3a5db-7ecc-46d0-b49e-6c1865fa0ac4",
   "metadata": {},
   "outputs": [],
   "source": [
    "model.compile(loss = 'binary_crossentropy', optimizer = 'adam', metrics = ['accuracy'])"
   ]
  },
  {
   "cell_type": "code",
   "execution_count": 73,
   "id": "96b27bea-0d46-4c1b-b577-e8c8c7750214",
   "metadata": {},
   "outputs": [
    {
     "name": "stdout",
     "output_type": "stream",
     "text": [
      "Model: \"sequential_3\"\n",
      "_________________________________________________________________\n",
      " Layer (type)                Output Shape              Param #   \n",
      "=================================================================\n",
      " embedding_3 (Embedding)     (None, 50, 16)            8000      \n",
      "                                                                 \n",
      " global_average_pooling1d_3  (None, 16)                0         \n",
      "  (GlobalAveragePooling1D)                                       \n",
      "                                                                 \n",
      " dense_6 (Dense)             (None, 6)                 102       \n",
      "                                                                 \n",
      " dense_7 (Dense)             (None, 1)                 7         \n",
      "                                                                 \n",
      "=================================================================\n",
      "Total params: 8109 (31.68 KB)\n",
      "Trainable params: 8109 (31.68 KB)\n",
      "Non-trainable params: 0 (0.00 Byte)\n",
      "_________________________________________________________________\n"
     ]
    }
   ],
   "source": [
    "model.summary()"
   ]
  },
  {
   "cell_type": "code",
   "execution_count": 74,
   "id": "68940f35-5c0e-484e-a757-4fb0b68d815e",
   "metadata": {
    "scrolled": true
   },
   "outputs": [
    {
     "name": "stdout",
     "output_type": "stream",
     "text": [
      "Epoch 1/30\n",
      "50/50 [==============================] - 1s 3ms/step - loss: 0.6926 - accuracy: 0.5166 - val_loss: 0.6945 - val_accuracy: 0.4110\n",
      "Epoch 2/30\n",
      "50/50 [==============================] - 0s 1ms/step - loss: 0.6903 - accuracy: 0.5223 - val_loss: 0.6957 - val_accuracy: 0.4135\n",
      "Epoch 3/30\n",
      "50/50 [==============================] - 0s 1ms/step - loss: 0.6877 - accuracy: 0.5311 - val_loss: 0.6938 - val_accuracy: 0.4361\n",
      "Epoch 4/30\n",
      "50/50 [==============================] - 0s 1ms/step - loss: 0.6841 - accuracy: 0.5800 - val_loss: 0.6920 - val_accuracy: 0.4662\n",
      "Epoch 5/30\n",
      "50/50 [==============================] - 0s 1ms/step - loss: 0.6786 - accuracy: 0.5951 - val_loss: 0.6850 - val_accuracy: 0.5313\n",
      "Epoch 6/30\n",
      "50/50 [==============================] - 0s 1ms/step - loss: 0.6713 - accuracy: 0.6648 - val_loss: 0.6804 - val_accuracy: 0.5514\n",
      "Epoch 7/30\n",
      "50/50 [==============================] - 0s 1ms/step - loss: 0.6613 - accuracy: 0.6824 - val_loss: 0.6694 - val_accuracy: 0.6190\n",
      "Epoch 8/30\n",
      "50/50 [==============================] - 0s 1ms/step - loss: 0.6489 - accuracy: 0.7219 - val_loss: 0.6579 - val_accuracy: 0.6466\n",
      "Epoch 9/30\n",
      "50/50 [==============================] - 0s 1ms/step - loss: 0.6335 - accuracy: 0.7495 - val_loss: 0.6470 - val_accuracy: 0.6667\n",
      "Epoch 10/30\n",
      "50/50 [==============================] - 0s 1ms/step - loss: 0.6132 - accuracy: 0.7608 - val_loss: 0.6199 - val_accuracy: 0.7594\n",
      "Epoch 11/30\n",
      "50/50 [==============================] - 0s 1ms/step - loss: 0.5873 - accuracy: 0.7872 - val_loss: 0.6110 - val_accuracy: 0.7343\n",
      "Epoch 12/30\n",
      "50/50 [==============================] - 0s 1ms/step - loss: 0.5623 - accuracy: 0.8067 - val_loss: 0.5903 - val_accuracy: 0.7694\n",
      "Epoch 13/30\n",
      "50/50 [==============================] - 0s 1ms/step - loss: 0.5339 - accuracy: 0.8230 - val_loss: 0.5795 - val_accuracy: 0.7343\n",
      "Epoch 14/30\n",
      "50/50 [==============================] - 0s 1ms/step - loss: 0.5105 - accuracy: 0.8230 - val_loss: 0.5568 - val_accuracy: 0.7719\n",
      "Epoch 15/30\n",
      "50/50 [==============================] - 0s 1ms/step - loss: 0.4825 - accuracy: 0.8374 - val_loss: 0.5504 - val_accuracy: 0.7444\n",
      "Epoch 16/30\n",
      "50/50 [==============================] - 0s 1ms/step - loss: 0.4584 - accuracy: 0.8500 - val_loss: 0.5298 - val_accuracy: 0.7970\n",
      "Epoch 17/30\n",
      "50/50 [==============================] - 0s 1ms/step - loss: 0.4383 - accuracy: 0.8493 - val_loss: 0.5367 - val_accuracy: 0.7318\n",
      "Epoch 18/30\n",
      "50/50 [==============================] - 0s 1ms/step - loss: 0.4180 - accuracy: 0.8512 - val_loss: 0.5167 - val_accuracy: 0.7619\n",
      "Epoch 19/30\n",
      "50/50 [==============================] - 0s 1ms/step - loss: 0.3989 - accuracy: 0.8625 - val_loss: 0.5019 - val_accuracy: 0.7895\n",
      "Epoch 20/30\n",
      "50/50 [==============================] - 0s 1ms/step - loss: 0.3819 - accuracy: 0.8675 - val_loss: 0.5052 - val_accuracy: 0.7519\n",
      "Epoch 21/30\n",
      "50/50 [==============================] - 0s 2ms/step - loss: 0.3667 - accuracy: 0.8682 - val_loss: 0.5130 - val_accuracy: 0.7343\n",
      "Epoch 22/30\n",
      "50/50 [==============================] - 0s 1ms/step - loss: 0.3544 - accuracy: 0.8738 - val_loss: 0.4895 - val_accuracy: 0.7820\n",
      "Epoch 23/30\n",
      "50/50 [==============================] - 0s 1ms/step - loss: 0.3431 - accuracy: 0.8757 - val_loss: 0.4927 - val_accuracy: 0.7644\n",
      "Epoch 24/30\n",
      "50/50 [==============================] - 0s 1ms/step - loss: 0.3303 - accuracy: 0.8788 - val_loss: 0.4889 - val_accuracy: 0.7719\n",
      "Epoch 25/30\n",
      "50/50 [==============================] - 0s 1ms/step - loss: 0.3211 - accuracy: 0.8839 - val_loss: 0.5028 - val_accuracy: 0.7293\n",
      "Epoch 26/30\n",
      "50/50 [==============================] - 0s 1ms/step - loss: 0.3114 - accuracy: 0.8883 - val_loss: 0.5121 - val_accuracy: 0.7268\n",
      "Epoch 27/30\n",
      "50/50 [==============================] - 0s 1ms/step - loss: 0.2999 - accuracy: 0.8889 - val_loss: 0.5140 - val_accuracy: 0.7243\n",
      "Epoch 28/30\n",
      "50/50 [==============================] - 0s 1ms/step - loss: 0.2930 - accuracy: 0.8920 - val_loss: 0.4934 - val_accuracy: 0.7444\n",
      "Epoch 29/30\n",
      "50/50 [==============================] - 0s 1ms/step - loss: 0.2850 - accuracy: 0.8939 - val_loss: 0.4974 - val_accuracy: 0.7368\n",
      "Epoch 30/30\n",
      "50/50 [==============================] - 0s 1ms/step - loss: 0.2808 - accuracy: 0.8945 - val_loss: 0.5011 - val_accuracy: 0.7343\n"
     ]
    }
   ],
   "source": [
    "num_epochs = 30\n",
    "history = model.fit(train_padding, train_label_fin, epochs = num_epochs, validation_data = (test_padding, test_label_fin))"
   ]
  },
  {
   "cell_type": "code",
   "execution_count": 75,
   "id": "d2648dcd-a91d-453c-adc4-ae638798dd07",
   "metadata": {},
   "outputs": [
    {
     "data": {
      "image/png": "[encoded data removed]",
      "text/plain": [
       "<Figure size 640x480 with 1 Axes>"
      ]
     },
     "metadata": {},
     "output_type": "display_data"
    },
    {
     "data": {
      "image/png": "[encoded data removed]",
      "text/plain": [
       "<Figure size 640x480 with 1 Axes>"
      ]
     },
     "metadata": {},
     "output_type": "display_data"
    }
   ],
   "source": [
    "def plot_graphs(history, string):\n",
    "    plt.plot(history.history[string])\n",
    "    plt.plot(history.history['val_'+string])\n",
    "    plt.xlabel(\"Epoch\")\n",
    "    plt.ylabel(string)\n",
    "    plt.legend([string, 'val_'+string])\n",
    "    plt.show()\n",
    "\n",
    "plot_graphs(history, 'accuracy')\n",
    "plot_graphs(history, 'loss')"
   ]
  },
  {
   "cell_type": "markdown",
   "id": "4c95fa29-c4cd-4374-9d88-f14edc5d0e02",
   "metadata": {},
   "source": [
    "3 below codings are for vizing them in: https://projector.tensorflow.org/"
   ]
  },
  {
   "cell_type": "code",
   "execution_count": 76,
   "id": "82e9629c-af06-4d54-822b-bc1810cb9ada",
   "metadata": {},
   "outputs": [
    {
     "name": "stdout",
     "output_type": "stream",
     "text": [
      "(500, 16)\n"
     ]
    }
   ],
   "source": [
    "e = model.layers[0]\n",
    "weights = e.get_weights()[0]\n",
    "print(weights.shape)"
   ]
  },
  {
   "cell_type": "code",
   "execution_count": 77,
   "id": "c3e85fd4-09cd-4ecc-b0c4-dbdd0d0995b5",
   "metadata": {},
   "outputs": [],
   "source": [
    "import io\n",
    "reverse_word_index = dict([(value, key) for (key, value) in word_index.items()])\n",
    "\n",
    "out_v = io.open('vecs.tsv', 'w', encoding = 'utf-8')\n",
    "out_m = io.open('meta.tsv', 'w', encoding = 'utf-8')\n",
    "for word_num in range(1, vocab_size):\n",
    "    word = reverse_word_index[word_num]\n",
    "    embeddings = weights[word_num]\n",
    "    out_m.write(word + \"\\n\")\n",
    "    out_v.write('\\t'.join([str(x) for x in embeddings]) + '\\n')\n",
    "out_v.close()\n",
    "out_m.close()"
   ]
  },
  {
   "cell_type": "code",
   "execution_count": 78,
   "id": "7b0c9d3d-faeb-45c6-bbe8-4b004bc293c9",
   "metadata": {},
   "outputs": [
    {
     "data": {
      "text/html": [
       "<a href='vecs.tsv' target='_blank'>vecs.tsv</a><br>"
      ],
      "text/plain": [
       "C:\\Users\\Harivenkat\\my_project\\hvenv\\Data science\\vecs.tsv"
      ]
     },
     "metadata": {},
     "output_type": "display_data"
    },
    {
     "data": {
      "text/html": [
       "<a href='meta.tsv' target='_blank'>meta.tsv</a><br>"
      ],
      "text/plain": [
       "C:\\Users\\Harivenkat\\my_project\\hvenv\\Data science\\meta.tsv"
      ]
     },
     "metadata": {},
     "output_type": "display_data"
    }
   ],
   "source": [
    "from IPython.display import FileLink\n",
    "import os\n",
    "\n",
    "vecs_file = 'vecs.tsv'\n",
    "meta_file = 'meta.tsv'\n",
    "\n",
    "if os.path.exists(vecs_file):\n",
    "    display(FileLink(vecs_file))\n",
    "else:\n",
    "    print(f\"{vecs_file} not found.\")\n",
    "\n",
    "if os.path.exists(meta_file):\n",
    "    display(FileLink(meta_file))\n",
    "else:\n",
    "    print(f\"{meta_file} not found.\")"
   ]
  },
  {
   "cell_type": "markdown",
   "id": "7d740015-c2c3-42f1-ab9b-c84584940fdb",
   "metadata": {},
   "source": [
    "Prediction............."
   ]
  },
  {
   "cell_type": "code",
   "execution_count": 79,
   "id": "ab767749-594f-4132-9d6b-40fc21810775",
   "metadata": {},
   "outputs": [],
   "source": [
    "fake_reviews = ['I love this phone', 'I hate spaghetti', \n",
    "                'Everything was cold',\n",
    "                'Everything was hot exactly as I wanted', \n",
    "                'Everything was green', \n",
    "                'the host seated us immediately',\n",
    "                'they gave us free chocolate cake', \n",
    "                'not sure about the wilted flowers on the table',\n",
    "                'only works when I stand on tippy toes', \n",
    "                'does not work when I stand on my head']"
   ]
  },
  {
   "cell_type": "code",
   "execution_count": 80,
   "id": "02bf5647-c64f-4e97-acc1-2ffb75aa9b1b",
   "metadata": {},
   "outputs": [],
   "source": [
    "padding_type = 'post'\n",
    "sample_sequences = tokenizer.texts_to_sequences(fake_reviews)\n",
    "fake_pad = pad_sequences(sample_sequences, padding = padding_type, maxlen = max_length)"
   ]
  },
  {
   "cell_type": "code",
   "execution_count": 83,
   "id": "0313c063-8fd0-45c1-94f9-5d7fc63145d6",
   "metadata": {},
   "outputs": [
    {
     "name": "stdout",
     "output_type": "stream",
     "text": [
      "Value close to 1 - positive, \n",
      "Value close to 0 - negative, \n",
      "0.5 - ambiguous\n",
      "1/1 [==============================] - 0s 24ms/step\n",
      "I love this phone\n",
      "[0.89368695]\n",
      "\n",
      "\n",
      "I hate spaghetti\n",
      "[0.21749732]\n",
      "\n",
      "\n",
      "Everything was cold\n",
      "[0.6119154]\n",
      "\n",
      "\n",
      "Everything was hot exactly as I wanted\n",
      "[0.4538913]\n",
      "\n",
      "\n",
      "Everything was green\n",
      "[0.6119154]\n",
      "\n",
      "\n",
      "the host seated us immediately\n",
      "[0.59690744]\n",
      "\n",
      "\n",
      "they gave us free chocolate cake\n",
      "[0.8283504]\n",
      "\n",
      "\n",
      "not sure about the wilted flowers on the table\n",
      "[0.13515812]\n",
      "\n",
      "\n",
      "only works when I stand on tippy toes\n",
      "[0.81606734]\n",
      "\n",
      "\n",
      "does not work when I stand on my head\n",
      "[0.03357479]\n",
      "\n",
      "\n"
     ]
    }
   ],
   "source": [
    "print(\"Value close to 1 - positive, \\nValue close to 0 - negative, \\n0.5 - ambiguous\")\n",
    "\n",
    "classes = model.predict(fake_pad)\n",
    "\n",
    "for x in range(len(fake_reviews)):\n",
    "    print(fake_reviews[x])\n",
    "    print(classes[x])\n",
    "    print(\"\\n\")"
   ]
  }
 ],
 "metadata": {
  "kernelspec": {
   "display_name": "Python 3 (ipykernel)",
   "language": "python",
   "name": "python3"
  },
  "language_info": {
   "codemirror_mode": {
    "name": "ipython",
    "version": 3
   },
   "file_extension": ".py",
   "mimetype": "text/x-python",
   "name": "python",
   "nbconvert_exporter": "python",
   "pygments_lexer": "ipython3",
   "version": "3.8.10"
  }
 },
 "nbformat": 4,
 "nbformat_minor": 5
}
