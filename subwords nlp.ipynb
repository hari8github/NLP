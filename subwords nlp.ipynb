{
 "cells": [
  {
   "cell_type": "code",
   "execution_count": 16,
   "id": "9a5ef27c-ef32-490d-8032-e44f56893dd3",
   "metadata": {},
   "outputs": [],
   "source": [
    "import tensorflow as tf\n",
    "from tensorflow.keras.preprocessing.sequence import pad_sequences\n",
    "import tensorflow_datasets as tfds"
   ]
  },
  {
   "cell_type": "code",
   "execution_count": 25,
   "id": "0df697c3-f0fc-4958-8f0e-fd37b8ff5eec",
   "metadata": {},
   "outputs": [],
   "source": [
    "import pandas as pd\n",
    "import matplotlib.pyplot as plt\n",
    "import numpy as np"
   ]
  },
  {
   "cell_type": "code",
   "execution_count": 18,
   "id": "1d6b3535-b3f9-491e-821b-fe0a09bd0bee",
   "metadata": {},
   "outputs": [],
   "source": [
    "dataset = pd.read_csv(\"D:\\Data Science\\Datasets\\combined_data.csv\")"
   ]
  },
  {
   "cell_type": "code",
   "execution_count": 19,
   "id": "57576e05-2cf2-45b3-b34d-88b7b26b66f0",
   "metadata": {},
   "outputs": [],
   "source": [
    "sentences = dataset['text'].tolist()\n",
    "labels = dataset['sentiment'].tolist()"
   ]
  },
  {
   "cell_type": "code",
   "execution_count": 20,
   "id": "75464922-1c72-4190-a03b-85a709c95270",
   "metadata": {},
   "outputs": [],
   "source": [
    "vocab_size = 1000\n",
    "tokenizer = tfds.deprecated.text.SubwordTextEncoder.build_from_corpus(sentences, vocab_size,\n",
    "                                                                      max_subword_length = 5)"
   ]
  },
  {
   "cell_type": "code",
   "execution_count": 21,
   "id": "40063e77-74ad-4098-9a93-f90eb1cfa76b",
   "metadata": {},
   "outputs": [
    {
     "name": "stdout",
     "output_type": "stream",
     "text": [
      "I have to jiggle the plug to get it to line up right to get decent volume.\n",
      "[4, 31, 6, 849, 162, 450, 12, 1, 600, 438, 775, 6, 175, 14, 6, 55, 213, 159, 474, 775, 6, 175, 614, 380, 295, 148, 72, 789]\n"
     ]
    }
   ],
   "source": [
    "num = 5\n",
    "print(sentences[num])\n",
    "encoded = tokenizer.encode(sentences[num])\n",
    "print(encoded)"
   ]
  },
  {
   "cell_type": "code",
   "execution_count": 22,
   "id": "e45c7ee0-fe1b-4f83-b47d-6deba2060200",
   "metadata": {},
   "outputs": [
    {
     "name": "stdout",
     "output_type": "stream",
     "text": [
      "I \n",
      "have \n",
      "to \n",
      "j\n",
      "ig\n",
      "gl\n",
      "e \n",
      "the \n",
      "pl\n",
      "ug\n",
      " \n",
      "to \n",
      "get \n",
      "it \n",
      "to \n",
      "li\n",
      "ne \n",
      "up \n",
      "right\n",
      " \n",
      "to \n",
      "get \n",
      "dec\n",
      "ent \n",
      "vo\n",
      "lu\n",
      "me\n",
      ".\n"
     ]
    }
   ],
   "source": [
    "for i in encoded:\n",
    "    print(tokenizer.decode([i]))"
   ]
  },
  {
   "cell_type": "code",
   "execution_count": 23,
   "id": "b4d28de8-57e7-4770-9aaa-05a74585c1a6",
   "metadata": {},
   "outputs": [],
   "source": [
    "for i, sentence in enumerate(sentences):\n",
    "  sentences[i] = tokenizer.encode(sentence)"
   ]
  },
  {
   "cell_type": "code",
   "execution_count": 24,
   "id": "ec4f1ff4-da1e-48ed-bf13-da04b4d415cb",
   "metadata": {},
   "outputs": [
    {
     "name": "stdout",
     "output_type": "stream",
     "text": [
      "[625, 677, 626, 274, 380, 633, 148, 844, 789]\n"
     ]
    }
   ],
   "source": [
    "print(sentences[1])"
   ]
  },
  {
   "cell_type": "code",
   "execution_count": 26,
   "id": "2a35e65c-aaa2-4f39-ae06-5013178c4dcf",
   "metadata": {},
   "outputs": [],
   "source": [
    "max_length = 50\n",
    "trunc_type = 'post'\n",
    "padding_type = 'post'"
   ]
  },
  {
   "cell_type": "code",
   "execution_count": 27,
   "id": "6328b5ac-71be-4ba6-afc1-6b9c6ab0bcbc",
   "metadata": {},
   "outputs": [],
   "source": [
    "sentences_padded = pad_sequences(sentences, maxlen = max_length,\n",
    "                                 padding = padding_type, truncating = trunc_type)"
   ]
  },
  {
   "cell_type": "code",
   "execution_count": 28,
   "id": "8a02a01f-6963-43ef-901b-ea42aa5efc60",
   "metadata": {},
   "outputs": [],
   "source": [
    "train_size = int(len(sentences) *0.8)\n",
    "\n",
    "train_sentences = sentences_padded[0:train_size]\n",
    "train_labels = labels[0:train_size]\n",
    "test_sentences = sentences_padded[train_size:]\n",
    "test_labels = labels[train_size:]\n",
    "\n",
    "train_label_fin = np.array(train_labels)\n",
    "test_label_fin = np.array(test_labels)"
   ]
  },
  {
   "cell_type": "code",
   "execution_count": 29,
   "id": "a2631e05-2b66-421b-8710-0190fb48a6ff",
   "metadata": {},
   "outputs": [
    {
     "name": "stdout",
     "output_type": "stream",
     "text": [
      "Model: \"sequential\"\n",
      "_________________________________________________________________\n",
      " Layer (type)                Output Shape              Param #   \n",
      "=================================================================\n",
      " embedding (Embedding)       (None, 50, 16)            16000     \n",
      "                                                                 \n",
      " global_average_pooling1d (  (None, 16)                0         \n",
      " GlobalAveragePooling1D)                                         \n",
      "                                                                 \n",
      " dense (Dense)               (None, 6)                 102       \n",
      "                                                                 \n",
      " dense_1 (Dense)             (None, 1)                 7         \n",
      "                                                                 \n",
      "=================================================================\n",
      "Total params: 16109 (62.93 KB)\n",
      "Trainable params: 16109 (62.93 KB)\n",
      "Non-trainable params: 0 (0.00 Byte)\n",
      "_________________________________________________________________\n"
     ]
    }
   ],
   "source": [
    "embedding_dim = 16\n",
    "\n",
    "model = tf.keras.Sequential([\n",
    "    tf.keras.layers.Embedding(vocab_size, embedding_dim, input_length = max_length),\n",
    "    tf.keras.layers.GlobalAveragePooling1D(),\n",
    "    tf.keras.layers.Dense(6, activation = 'relu'),\n",
    "    tf.keras.layers.Dense(1, activation = 'sigmoid')\n",
    "])\n",
    "\n",
    "model.summary()"
   ]
  },
  {
   "cell_type": "code",
   "execution_count": 31,
   "id": "93fd3955-27cc-43b5-8201-d3bdf0d7ae1a",
   "metadata": {},
   "outputs": [],
   "source": [
    "model.compile(loss = 'binary_crossentropy',\n",
    "              optimizer = 'adam',\n",
    "              metrics = ['accuracy'])"
   ]
  },
  {
   "cell_type": "code",
   "execution_count": 33,
   "id": "4aff08c8-0b28-42d8-8eb3-74ee0c9c5bae",
   "metadata": {
    "scrolled": true
   },
   "outputs": [
    {
     "name": "stdout",
     "output_type": "stream",
     "text": [
      "Epoch 1/30\n",
      "50/50 [==============================] - 1s 4ms/step - loss: 0.6927 - accuracy: 0.5179 - val_loss: 0.6942 - val_accuracy: 0.4436\n",
      "Epoch 2/30\n",
      "50/50 [==============================] - 0s 1ms/step - loss: 0.6893 - accuracy: 0.5543 - val_loss: 0.6936 - val_accuracy: 0.4662\n",
      "Epoch 3/30\n",
      "50/50 [==============================] - 0s 1ms/step - loss: 0.6841 - accuracy: 0.5719 - val_loss: 0.6918 - val_accuracy: 0.4812\n",
      "Epoch 4/30\n",
      "50/50 [==============================] - 0s 1ms/step - loss: 0.6756 - accuracy: 0.6303 - val_loss: 0.6890 - val_accuracy: 0.4937\n",
      "Epoch 5/30\n",
      "50/50 [==============================] - 0s 1ms/step - loss: 0.6586 - accuracy: 0.6616 - val_loss: 0.6722 - val_accuracy: 0.5539\n",
      "Epoch 6/30\n",
      "50/50 [==============================] - 0s 1ms/step - loss: 0.6362 - accuracy: 0.7225 - val_loss: 0.6535 - val_accuracy: 0.6391\n",
      "Epoch 7/30\n",
      "50/50 [==============================] - 0s 1ms/step - loss: 0.6071 - accuracy: 0.7753 - val_loss: 0.6294 - val_accuracy: 0.6942\n",
      "Epoch 8/30\n",
      "50/50 [==============================] - 0s 1ms/step - loss: 0.5719 - accuracy: 0.7960 - val_loss: 0.6061 - val_accuracy: 0.7193\n",
      "Epoch 9/30\n",
      "50/50 [==============================] - 0s 1ms/step - loss: 0.5362 - accuracy: 0.8267 - val_loss: 0.5863 - val_accuracy: 0.7218\n",
      "Epoch 10/30\n",
      "50/50 [==============================] - 0s 1ms/step - loss: 0.4992 - accuracy: 0.8274 - val_loss: 0.5548 - val_accuracy: 0.7794\n",
      "Epoch 11/30\n",
      "50/50 [==============================] - 0s 1ms/step - loss: 0.4602 - accuracy: 0.8468 - val_loss: 0.5332 - val_accuracy: 0.7920\n",
      "Epoch 12/30\n",
      "50/50 [==============================] - 0s 1ms/step - loss: 0.4255 - accuracy: 0.8606 - val_loss: 0.5235 - val_accuracy: 0.7594\n",
      "Epoch 13/30\n",
      "50/50 [==============================] - 0s 1ms/step - loss: 0.3951 - accuracy: 0.8694 - val_loss: 0.5213 - val_accuracy: 0.7444\n",
      "Epoch 14/30\n",
      "50/50 [==============================] - 0s 1ms/step - loss: 0.3688 - accuracy: 0.8757 - val_loss: 0.5174 - val_accuracy: 0.7469\n",
      "Epoch 15/30\n",
      "50/50 [==============================] - 0s 1ms/step - loss: 0.3450 - accuracy: 0.8807 - val_loss: 0.4999 - val_accuracy: 0.7569\n",
      "Epoch 16/30\n",
      "50/50 [==============================] - 0s 1ms/step - loss: 0.3242 - accuracy: 0.8895 - val_loss: 0.4998 - val_accuracy: 0.7594\n",
      "Epoch 17/30\n",
      "50/50 [==============================] - 0s 1ms/step - loss: 0.3069 - accuracy: 0.8895 - val_loss: 0.4936 - val_accuracy: 0.7594\n",
      "Epoch 18/30\n",
      "50/50 [==============================] - 0s 1ms/step - loss: 0.2920 - accuracy: 0.8983 - val_loss: 0.4993 - val_accuracy: 0.7569\n",
      "Epoch 19/30\n",
      "50/50 [==============================] - 0s 1ms/step - loss: 0.2758 - accuracy: 0.9033 - val_loss: 0.5002 - val_accuracy: 0.7544\n",
      "Epoch 20/30\n",
      "50/50 [==============================] - 0s 1ms/step - loss: 0.2646 - accuracy: 0.9109 - val_loss: 0.5306 - val_accuracy: 0.7419\n",
      "Epoch 21/30\n",
      "50/50 [==============================] - 0s 1ms/step - loss: 0.2544 - accuracy: 0.9134 - val_loss: 0.5271 - val_accuracy: 0.7444\n",
      "Epoch 22/30\n",
      "50/50 [==============================] - 0s 1ms/step - loss: 0.2419 - accuracy: 0.9153 - val_loss: 0.5521 - val_accuracy: 0.7419\n",
      "Epoch 23/30\n",
      "50/50 [==============================] - 0s 1ms/step - loss: 0.2311 - accuracy: 0.9171 - val_loss: 0.5365 - val_accuracy: 0.7494\n",
      "Epoch 24/30\n",
      "50/50 [==============================] - 0s 1ms/step - loss: 0.2224 - accuracy: 0.9240 - val_loss: 0.5475 - val_accuracy: 0.7494\n",
      "Epoch 25/30\n",
      "50/50 [==============================] - 0s 1ms/step - loss: 0.2134 - accuracy: 0.9247 - val_loss: 0.5447 - val_accuracy: 0.7444\n",
      "Epoch 26/30\n",
      "50/50 [==============================] - 0s 1ms/step - loss: 0.2057 - accuracy: 0.9335 - val_loss: 0.5610 - val_accuracy: 0.7368\n",
      "Epoch 27/30\n",
      "50/50 [==============================] - 0s 1ms/step - loss: 0.1980 - accuracy: 0.9372 - val_loss: 0.5660 - val_accuracy: 0.7444\n",
      "Epoch 28/30\n",
      "50/50 [==============================] - 0s 2ms/step - loss: 0.1925 - accuracy: 0.9316 - val_loss: 0.5528 - val_accuracy: 0.7569\n",
      "Epoch 29/30\n",
      "50/50 [==============================] - 0s 1ms/step - loss: 0.1849 - accuracy: 0.9397 - val_loss: 0.5721 - val_accuracy: 0.7469\n",
      "Epoch 30/30\n",
      "50/50 [==============================] - 0s 2ms/step - loss: 0.1788 - accuracy: 0.9397 - val_loss: 0.5874 - val_accuracy: 0.7393\n"
     ]
    }
   ],
   "source": [
    "history = model.fit(train_sentences, train_label_fin, epochs = 30, \n",
    "                    validation_data = (test_sentences, test_label_fin))"
   ]
  },
  {
   "cell_type": "code",
   "execution_count": 34,
   "id": "3716ab4d-45ee-48d2-8212-0035553bb972",
   "metadata": {},
   "outputs": [
    {
     "data": {
      "image/png": "[encoded data removed]",
      "text/plain": [
       "<Figure size 640x480 with 1 Axes>"
      ]
     },
     "metadata": {},
     "output_type": "display_data"
    },
    {
     "data": {
      "image/png": "[encoded data removed]",
      "text/plain": [
       "<Figure size 640x480 with 1 Axes>"
      ]
     },
     "metadata": {},
     "output_type": "display_data"
    }
   ],
   "source": [
    "def plot_graph(history, string):\n",
    "    plt.plot(history.history[string])\n",
    "    plt.plot(history.history['val_'+string])\n",
    "    plt.xlabel(\"Epochs\")\n",
    "    plt.ylabel(string)\n",
    "    plt.legend([string, 'val_'+string])\n",
    "    plt.show()\n",
    "plot_graph(history, 'accuracy')\n",
    "plot_graph(history, 'loss')   "
   ]
  },
  {
   "cell_type": "markdown",
   "id": "a1aaa6f3-beb3-467c-bf71-f14a258a2a74",
   "metadata": {},
   "source": [
    "VIZ"
   ]
  },
  {
   "cell_type": "code",
   "execution_count": 35,
   "id": "914630a3-96b6-4641-a82a-0ad7e5d874e9",
   "metadata": {},
   "outputs": [
    {
     "name": "stdout",
     "output_type": "stream",
     "text": [
      "(1000, 16)\n"
     ]
    }
   ],
   "source": [
    "# First get the weights of the embedding layer\n",
    "e = model.layers[0]\n",
    "weights = e.get_weights()[0]\n",
    "print(weights.shape) # shape: (vocab_size, embedding_dim)"
   ]
  },
  {
   "cell_type": "code",
   "execution_count": 36,
   "id": "21c33fb8-1bbf-4aea-9fd4-c9bf5423ce38",
   "metadata": {},
   "outputs": [],
   "source": [
    "import io\n",
    "\n",
    "# Write out the embedding vectors and metadata\n",
    "out_v = io.open('vecs.tsv', 'w', encoding='utf-8')\n",
    "out_m = io.open('meta.tsv', 'w', encoding='utf-8')\n",
    "for word_num in range(0, vocab_size - 1):\n",
    "  word = tokenizer.decode([word_num])\n",
    "  embeddings = weights[word_num]\n",
    "  out_m.write(word + \"\\n\")\n",
    "  out_v.write('\\t'.join([str(x) for x in embeddings]) + \"\\n\")\n",
    "out_v.close()\n",
    "out_m.close()"
   ]
  },
  {
   "cell_type": "code",
   "execution_count": 37,
   "id": "e87ec45b-fcc8-4979-918c-18ab98510a99",
   "metadata": {},
   "outputs": [
    {
     "data": {
      "text/html": [
       "<a href='vecs.tsv' target='_blank'>vecs.tsv</a><br>"
      ],
      "text/plain": [
       "C:\\Users\\Harivenkat\\my_project\\hvenv\\Data science\\vecs.tsv"
      ]
     },
     "metadata": {},
     "output_type": "display_data"
    },
    {
     "data": {
      "text/html": [
       "<a href='meta.tsv' target='_blank'>meta.tsv</a><br>"
      ],
      "text/plain": [
       "C:\\Users\\Harivenkat\\my_project\\hvenv\\Data science\\meta.tsv"
      ]
     },
     "metadata": {},
     "output_type": "display_data"
    }
   ],
   "source": [
    "from IPython.display import FileLink\n",
    "import os\n",
    "\n",
    "vecs_file = 'vecs.tsv'\n",
    "meta_file = 'meta.tsv'\n",
    "\n",
    "if os.path.exists(vecs_file):\n",
    "    display(FileLink(vecs_file))\n",
    "else:\n",
    "    print(f\"{vecs_file} not found.\")\n",
    "\n",
    "if os.path.exists(meta_file):\n",
    "    display(FileLink(meta_file))\n",
    "else:\n",
    "    print(f\"{meta_file} not found.\")"
   ]
  }
 ],
 "metadata": {
  "kernelspec": {
   "display_name": "Python 3 (ipykernel)",
   "language": "python",
   "name": "python3"
  },
  "language_info": {
   "codemirror_mode": {
    "name": "ipython",
    "version": 3
   },
   "file_extension": ".py",
   "mimetype": "text/x-python",
   "name": "python",
   "nbconvert_exporter": "python",
   "pygments_lexer": "ipython3",
   "version": "3.8.10"
  }
 },
 "nbformat": 4,
 "nbformat_minor": 5
}
