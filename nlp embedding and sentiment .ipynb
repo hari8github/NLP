{
 "cells": [
  {
   "cell_type": "code",
   "execution_count": 6,
   "id": "979f7e8d-daae-4f67-b256-f11af00e9437",
   "metadata": {},
   "outputs": [],
   "source": [
    "import tensorflow as tf\n",
    "from tensorflow.keras.preprocessing.text import Tokenizer\n",
    "from tensorflow.keras.preprocessing.sequence import pad_sequences"
   ]
  },
  {
   "cell_type": "code",
   "execution_count": 7,
   "id": "4e9f8610-7ccd-4381-85ff-4551792593ee",
   "metadata": {},
   "outputs": [],
   "source": [
    "import numpy as np\n",
    "import pandas as pd"
   ]
  },
  {
   "cell_type": "code",
   "execution_count": 8,
   "id": "950a772c-ad42-4a83-a508-01da2c823e46",
   "metadata": {},
   "outputs": [],
   "source": [
    "dataset = pd.read_csv(\"D:\\Data Science\\Datasets\\combined_data.csv\")"
   ]
  },
  {
   "cell_type": "code",
   "execution_count": 9,
   "id": "12cece03-3ca0-480d-928a-b2c8bed3d69e",
   "metadata": {},
   "outputs": [],
   "source": [
    "sentences = dataset['text'].tolist()\n",
    "labels = dataset['sentiment'].tolist()"
   ]
  },
  {
   "cell_type": "code",
   "execution_count": 10,
   "id": "9d02a05b-7dab-44e7-bbe9-96e5bab9e9ee",
   "metadata": {},
   "outputs": [],
   "source": [
    "training_size = int(len(sentences) *0.8)\n",
    "\n",
    "train_sentences = sentences[0:training_size]\n",
    "train_labels = labels[0:training_size]\n",
    "test_sentences = sentences[training_size:]\n",
    "test_labels = labels[training_size:]\n",
    "\n",
    "train_labels_fin = np.array(train_labels)\n",
    "test_labels_fin = np.array(test_labels)"
   ]
  },
  {
   "cell_type": "code",
   "execution_count": 14,
   "id": "9870513e-dae5-46ba-86a9-422459eb67d2",
   "metadata": {},
   "outputs": [],
   "source": [
    "vocab_size = 1000\n",
    "embedding_dim = 16\n",
    "max_length = 100\n",
    "trunc_type = 'post'\n",
    "padding_type = 'post'\n",
    "oov_tok = '<OOV>'"
   ]
  },
  {
   "cell_type": "code",
   "execution_count": 29,
   "id": "29c92304-25dd-4be7-80d3-5abe3bf78397",
   "metadata": {},
   "outputs": [],
   "source": [
    "tokenizer = Tokenizer(num_words = vocab_size, oov_token=oov_tok)\n",
    "tokenizer.fit_on_texts(train_sentences)\n",
    "word_index = tokenizer.word_index\n",
    "\n",
    "sequences = tokenizer.texts_to_sequences(train_sentences)\n",
    "\n",
    "padded = pad_sequences(sequences,maxlen=max_length, padding=padding_type, \n",
    "                       truncating=trunc_type)"
   ]
  },
  {
   "cell_type": "code",
   "execution_count": 28,
   "id": "69ebf85d-0356-47e0-acdd-c53998e7b1d1",
   "metadata": {},
   "outputs": [],
   "source": [
    "testing_sequences = tokenizer.texts_to_sequences(test_sentences)\n",
    "\n",
    "testing_padded = pad_sequences(testing_sequences,maxlen=max_length, \n",
    "                               padding=padding_type, truncating=trunc_type)"
   ]
  },
  {
   "cell_type": "code",
   "execution_count": 33,
   "id": "d4645408-9daa-4267-b8d5-20f2775a0d7d",
   "metadata": {},
   "outputs": [
    {
     "name": "stdout",
     "output_type": "stream",
     "text": [
      "good case excellent value ? ? ? ? ? ? ? ? ? ? ? ? ? ? ? ? ? ? ? ? ? ? ? ? ? ? ? ? ? ? ? ? ? ? ? ? ? ? ? ? ? ? ? ? ? ? ? ? ? ? ? ? ? ? ? ? ? ? ? ? ? ? ? ? ? ? ? ? ? ? ? ? ? ? ? ? ? ? ? ? ? ? ? ? ? ? ? ? ? ? ? ? ? ? ? ?\n",
      "Good case Excellent value.\n"
     ]
    }
   ],
   "source": [
    "reverse_word_index = dict([(value, key) for (key, value) in word_index.items()])\n",
    "\n",
    "def decode_review(text):\n",
    "    return ' '.join([reverse_word_index.get(i, '?') for i in text])\n",
    "\n",
    "print(decode_review(padded[1]))\n",
    "print(train_sentences[1])"
   ]
  },
  {
   "cell_type": "code",
   "execution_count": 35,
   "id": "2dceb596-b686-405b-8963-32fefa8cd0c2",
   "metadata": {},
   "outputs": [],
   "source": [
    "model = tf.keras.Sequential([\n",
    "    tf.keras.layers.Embedding(vocab_size, embedding_dim, input_length = max_length),\n",
    "    tf.keras.layers.Flatten(),\n",
    "    tf.keras.layers.Dense(6, activation = 'relu'),\n",
    "    tf.keras.layers.Dense(1)\n",
    "])"
   ]
  },
  {
   "cell_type": "code",
   "execution_count": 36,
   "id": "3c5b862e-ad62-43d8-8597-fc5e29d66488",
   "metadata": {},
   "outputs": [],
   "source": [
    "model.compile(optimizer = 'adam',\n",
    "              loss = 'binary_crossentropy',\n",
    "              metrics = ['accuracy'])"
   ]
  },
  {
   "cell_type": "code",
   "execution_count": 37,
   "id": "12562c95-6337-4d17-8069-a4ac24852e65",
   "metadata": {},
   "outputs": [
    {
     "name": "stdout",
     "output_type": "stream",
     "text": [
      "Model: \"sequential\"\n",
      "_________________________________________________________________\n",
      " Layer (type)                Output Shape              Param #   \n",
      "=================================================================\n",
      " embedding (Embedding)       (None, 100, 16)           16000     \n",
      "                                                                 \n",
      " flatten (Flatten)           (None, 1600)              0         \n",
      "                                                                 \n",
      " dense (Dense)               (None, 6)                 9606      \n",
      "                                                                 \n",
      " dense_1 (Dense)             (None, 1)                 7         \n",
      "                                                                 \n",
      "=================================================================\n",
      "Total params: 25613 (100.05 KB)\n",
      "Trainable params: 25613 (100.05 KB)\n",
      "Non-trainable params: 0 (0.00 Byte)\n",
      "_________________________________________________________________\n"
     ]
    }
   ],
   "source": [
    "model.summary()"
   ]
  },
  {
   "cell_type": "code",
   "execution_count": 39,
   "id": "3e1cd410-90b7-4585-9a1e-dac452ebb538",
   "metadata": {},
   "outputs": [
    {
     "name": "stdout",
     "output_type": "stream",
     "text": [
      "Epoch 1/10\n",
      "50/50 [==============================] - 1s 7ms/step - loss: 1.2219 - accuracy: 0.4777 - val_loss: 0.6826 - val_accuracy: 0.5890\n",
      "Epoch 2/10\n",
      "50/50 [==============================] - 0s 3ms/step - loss: 0.6985 - accuracy: 0.5242 - val_loss: 0.7077 - val_accuracy: 0.4586\n",
      "Epoch 3/10\n",
      "50/50 [==============================] - 0s 3ms/step - loss: 0.6821 - accuracy: 0.5562 - val_loss: 0.6933 - val_accuracy: 0.4837\n",
      "Epoch 4/10\n",
      "50/50 [==============================] - 0s 3ms/step - loss: 0.6774 - accuracy: 0.5957 - val_loss: 0.7042 - val_accuracy: 0.4662\n",
      "Epoch 5/10\n",
      "50/50 [==============================] - 0s 3ms/step - loss: 0.6704 - accuracy: 0.6234 - val_loss: 0.6938 - val_accuracy: 0.4887\n",
      "Epoch 6/10\n",
      "50/50 [==============================] - 0s 3ms/step - loss: 0.6568 - accuracy: 0.6434 - val_loss: 0.6816 - val_accuracy: 0.5464\n",
      "Epoch 7/10\n",
      "50/50 [==============================] - 0s 3ms/step - loss: 0.6346 - accuracy: 0.7301 - val_loss: 0.6777 - val_accuracy: 0.5539\n",
      "Epoch 8/10\n",
      "50/50 [==============================] - 0s 3ms/step - loss: 0.5979 - accuracy: 0.7753 - val_loss: 0.6590 - val_accuracy: 0.5764\n",
      "Epoch 9/10\n",
      "50/50 [==============================] - 0s 3ms/step - loss: 0.5373 - accuracy: 0.8242 - val_loss: 0.6140 - val_accuracy: 0.6566\n",
      "Epoch 10/10\n",
      "50/50 [==============================] - 0s 3ms/step - loss: 0.4423 - accuracy: 0.8688 - val_loss: 0.5355 - val_accuracy: 0.7343\n"
     ]
    },
    {
     "data": {
      "text/plain": [
       "<keras.src.callbacks.History at 0x29a35cb2b20>"
      ]
     },
     "execution_count": 39,
     "metadata": {},
     "output_type": "execute_result"
    }
   ],
   "source": [
    "num_epochs = 10\n",
    "model.fit(padded, train_labels_fin, epochs = num_epochs, validation_data = (testing_padded, test_labels_fin))"
   ]
  },
  {
   "cell_type": "code",
   "execution_count": 40,
   "id": "12535df7-a2e6-4026-9866-87c9c8c8e306",
   "metadata": {},
   "outputs": [
    {
     "name": "stdout",
     "output_type": "stream",
     "text": [
      "(1000, 16)\n"
     ]
    }
   ],
   "source": [
    "e = model.layers[0]\n",
    "weights = e.get_weights()[0]\n",
    "print(weights.shape)"
   ]
  },
  {
   "cell_type": "code",
   "execution_count": 43,
   "id": "2108b615-ac8f-4222-92ca-c146a7eeaac6",
   "metadata": {},
   "outputs": [],
   "source": [
    "import io\n",
    "\n",
    "out_v = io.open('vecs.tsv', 'w', encoding = 'utf-8')\n",
    "out_m = io.open('meta.tsv', 'w', encoding = 'utf-8')\n",
    "for word_num in range(1, vocab_size):\n",
    "    word = reverse_word_index[word_num]\n",
    "    embeddings = weights[word_num]\n",
    "    out_m.write(word + '\\n')\n",
    "    out_v.write('\\t'.join([str(x) for x in embeddings]) + '\\n')\n",
    "out_v.close()\n",
    "out_m.close()"
   ]
  },
  {
   "cell_type": "code",
   "execution_count": 47,
   "id": "71530691-0595-4d5f-b8b4-6c5d7109dcda",
   "metadata": {},
   "outputs": [
    {
     "data": {
      "text/html": [
       "<a href='vecs.tsv' target='_blank'>vecs.tsv</a><br>"
      ],
      "text/plain": [
       "C:\\Users\\Harivenkat\\my_project\\hvenv\\Data science\\vecs.tsv"
      ]
     },
     "metadata": {},
     "output_type": "display_data"
    },
    {
     "data": {
      "text/html": [
       "<a href='meta.tsv' target='_blank'>meta.tsv</a><br>"
      ],
      "text/plain": [
       "C:\\Users\\Harivenkat\\my_project\\hvenv\\Data science\\meta.tsv"
      ]
     },
     "metadata": {},
     "output_type": "display_data"
    }
   ],
   "source": [
    "from IPython.display import FileLink\n",
    "import os\n",
    "\n",
    "vecs_file = 'vecs.tsv'\n",
    "meta_file = 'meta.tsv'\n",
    "\n",
    "if os.path.exists(vecs_file):\n",
    "    display(FileLink(vecs_file))\n",
    "else:\n",
    "    print(f\"{vecs_file} not found.\")\n",
    "\n",
    "if os.path.exists(meta_file):\n",
    "    display(FileLink(meta_file))\n",
    "else:\n",
    "    print(f\"{meta_file} not found.\")"
   ]
  },
  {
   "cell_type": "code",
   "execution_count": 48,
   "id": "215d0093-5ba4-4c0a-8d47-c1bf0ac6e0ab",
   "metadata": {},
   "outputs": [
    {
     "name": "stdout",
     "output_type": "stream",
     "text": [
      "['I love this phone', 'I hate spaghetti', 'Everything was cold', 'Everything was hot exactly as I wanted', 'Everything was green', 'the host seated us immediately', 'they gave us free chocolate cake', 'not sure about the wilted flowers on the table', 'only works when I stand on tippy toes', 'does not work when I stand on my head']\n"
     ]
    }
   ],
   "source": [
    "fake_reviews =  ['I love this phone', 'I hate spaghetti', \n",
    "                'Everything was cold',\n",
    "                'Everything was hot exactly as I wanted', \n",
    "                'Everything was green', \n",
    "                'the host seated us immediately',\n",
    "                'they gave us free chocolate cake', \n",
    "                'not sure about the wilted flowers on the table',\n",
    "                'only works when I stand on tippy toes', \n",
    "                'does not work when I stand on my head']\n",
    "\n",
    "print(fake_reviews)"
   ]
  },
  {
   "cell_type": "code",
   "execution_count": 54,
   "id": "d7ed49c4-07a9-427b-897e-e8b945545b36",
   "metadata": {
    "scrolled": true
   },
   "outputs": [
    {
     "name": "stdout",
     "output_type": "stream",
     "text": [
      "\n",
      "HOT OFF THE PRESS! HERE ARE SOME NEWLY MINTED, ABSOLUTELY GENUINE REVIEWS!\n",
      "\n",
      "Value close to 1 - Positive, \n",
      "Value close to 0 - negative, \n",
      "0.5 - ambiguous\n",
      "\n",
      "1/1 [==============================] - 0s 28ms/step\n",
      "I love this phone\n",
      "[0.979014]\n",
      "\n",
      "\n",
      "I hate spaghetti\n",
      "[0.3179871]\n",
      "\n",
      "\n",
      "Everything was cold\n",
      "[0.5182383]\n",
      "\n",
      "\n",
      "Everything was hot exactly as I wanted\n",
      "[0.5766645]\n",
      "\n",
      "\n",
      "Everything was green\n",
      "[0.6091789]\n",
      "\n",
      "\n",
      "the host seated us immediately\n",
      "[0.5804747]\n",
      "\n",
      "\n",
      "they gave us free chocolate cake\n",
      "[0.69852597]\n",
      "\n",
      "\n",
      "not sure about the wilted flowers on the table\n",
      "[0.22057636]\n",
      "\n",
      "\n",
      "only works when I stand on tippy toes\n",
      "[0.6093327]\n",
      "\n",
      "\n",
      "does not work when I stand on my head\n",
      "[-0.0464014]\n",
      "\n",
      "\n"
     ]
    }
   ],
   "source": [
    "padding_type = 'post'\n",
    "sample_sequences = tokenizer.texts_to_sequences(fake_reviews)\n",
    "fake_padded = pad_sequences(sample_sequences, padding = padding_type, maxlen = max_length)\n",
    "\n",
    "print('\\nHOT OFF THE PRESS! HERE ARE SOME NEWLY MINTED, ABSOLUTELY GENUINE REVIEWS!\\n')\n",
    "print(\"Value close to 1 - Positive, \\nValue close to 0 - negative, \\n0.5 - ambiguous\\n\")\n",
    "\n",
    "classes = model.predict(fake_padded)\n",
    "\n",
    "for x in range(len(fake_reviews)):\n",
    "    print(fake_reviews[x])\n",
    "    print(classes[x])\n",
    "    print('\\n')"
   ]
  },
  {
   "cell_type": "code",
   "execution_count": 65,
   "id": "a3b74a22-db34-4662-84fe-2d52e15f094b",
   "metadata": {},
   "outputs": [
    {
     "name": "stdout",
     "output_type": "stream",
     "text": [
      "Adding not to a good review makes the model to predict its negative. Lets see!\n"
     ]
    }
   ],
   "source": [
    "print(\"Adding not to a good review makes the model to predict its negative. Lets see!\")\n",
    "fakest_review = ['i did not expect that to happen. a cake in my 69th bday?!']"
   ]
  },
  {
   "cell_type": "code",
   "execution_count": 66,
   "id": "9bd74e21-feb9-407e-9929-81d1d13c69c7",
   "metadata": {},
   "outputs": [],
   "source": [
    "sample = tokenizer.texts_to_sequences(fakest_review)\n",
    "fake_pad = pad_sequences(sample, padding = 'post', maxlen = max_length)"
   ]
  },
  {
   "cell_type": "code",
   "execution_count": 67,
   "id": "fead4b13-e8c1-4a59-88d3-dab6220e6ebc",
   "metadata": {},
   "outputs": [
    {
     "name": "stdout",
     "output_type": "stream",
     "text": [
      "1/1 [==============================] - 0s 32ms/step\n"
     ]
    }
   ],
   "source": [
    "classes = model.predict(fake_pad)"
   ]
  },
  {
   "cell_type": "code",
   "execution_count": 69,
   "id": "455e019e-8b1f-455c-8260-bc25457ffce7",
   "metadata": {},
   "outputs": [
    {
     "name": "stdout",
     "output_type": "stream",
     "text": [
      "i did not expect that to happen. a cake in my 69th bday?!\n",
      "[0.13752355]\n",
      "thats bad\n"
     ]
    }
   ],
   "source": [
    "print(fakest_review[0])\n",
    "print(classes[0])\n",
    "\n",
    "if classes[0] < 0.5:\n",
    "    print(\"thats bad\")\n",
    "else:\n",
    "    print(\"its alright!\")"
   ]
  }
 ],
 "metadata": {
  "kernelspec": {
   "display_name": "Python 3 (ipykernel)",
   "language": "python",
   "name": "python3"
  },
  "language_info": {
   "codemirror_mode": {
    "name": "ipython",
    "version": 3
   },
   "file_extension": ".py",
   "mimetype": "text/x-python",
   "name": "python",
   "nbconvert_exporter": "python",
   "pygments_lexer": "ipython3",
   "version": "3.8.10"
  }
 },
 "nbformat": 4,
 "nbformat_minor": 5
}
